{
  "nbformat": 4,
  "nbformat_minor": 0,
  "metadata": {
    "colab": {
      "provenance": [],
      "authorship_tag": "ABX9TyPHF5FYUTN9+fP44VXrYbpR",
      "include_colab_link": true
    },
    "kernelspec": {
      "name": "python3",
      "display_name": "Python 3"
    },
    "language_info": {
      "name": "python"
    }
  },
  "cells": [
    {
      "cell_type": "markdown",
      "metadata": {
        "id": "view-in-github",
        "colab_type": "text"
      },
      "source": [
        "<a href=\"https://colab.research.google.com/github/Devscoding/MAT421/blob/main/ModuleA.ipynb\" target=\"_parent\"><img src=\"https://colab.research.google.com/assets/colab-badge.svg\" alt=\"Open In Colab\"/></a>"
      ]
    },
    {
      "cell_type": "markdown",
      "source": [
        "# **9.1 Base-N and Binary**\n",
        "In everyday use the coventional representation of numbers is done through the Decimal System. Where numbers are represted by digits 0-9 where each digit stands for the coefficient for a power of 10"
      ],
      "metadata": {
        "id": "zrvoJZ3pwyrE"
      }
    },
    {
      "cell_type": "code",
      "source": [
        "#For Example 342.5(base10) can be expressed as follows\n",
        "\n",
        "342.5 == 3*(10**2) + 4*(10**1) + 2*(10**0) + 5*(10**-1)"
      ],
      "metadata": {
        "colab": {
          "base_uri": "https://localhost:8080/"
        },
        "id": "z5NI2tGzyE0Z",
        "outputId": "7744c857-9a14-4801-b979-df0981a9eb73"
      },
      "execution_count": 2,
      "outputs": [
        {
          "output_type": "execute_result",
          "data": {
            "text/plain": [
              "True"
            ]
          },
          "metadata": {},
          "execution_count": 2
        }
      ]
    },
    {
      "cell_type": "markdown",
      "source": [
        "However, there is nothing special about base10, and we can represent numbers in a multitude of way. A common repsentation for computers is base2 commonly known as **Binary**."
      ],
      "metadata": {
        "id": "e1PO3lCIyrQj"
      }
    },
    {
      "cell_type": "code",
      "source": [
        "#Just as numbers can be expressed in base10 they can be expressed in base2 (Binary)\n",
        "# 17(base10) can be expressed in binary as\n",
        "\n",
        "17 == 1*(2**4) + 0*(2**3) + 0*(2**2) + 0*(2**1)  + 1*(2**0)"
      ],
      "metadata": {
        "colab": {
          "base_uri": "https://localhost:8080/"
        },
        "id": "-RQu9EmBzk4x",
        "outputId": "057b5324-76fc-4974-d634-3990f1a681a5"
      },
      "execution_count": 7,
      "outputs": [
        {
          "output_type": "execute_result",
          "data": {
            "text/plain": [
              "True"
            ]
          },
          "metadata": {},
          "execution_count": 7
        }
      ]
    },
    {
      "cell_type": "code",
      "source": [
        "#Python can also do this conversion on its own\n",
        "bin(17)"
      ],
      "metadata": {
        "colab": {
          "base_uri": "https://localhost:8080/",
          "height": 35
        },
        "id": "WKRL4pPI2opG",
        "outputId": "dc057dab-cc6a-492e-a470-985b29b8f42a"
      },
      "execution_count": 6,
      "outputs": [
        {
          "output_type": "execute_result",
          "data": {
            "text/plain": [
              "'0b10001'"
            ],
            "application/vnd.google.colaboratory.intrinsic+json": {
              "type": "string"
            }
          },
          "metadata": {},
          "execution_count": 6
        }
      ]
    },
    {
      "cell_type": "markdown",
      "source": [
        "In Binary digits are either 0 or 1, and each digit is the coeffiecent of a power of 2. In binary a digit is referred to as a Bit."
      ],
      "metadata": {
        "id": "MCHVbXCh7r2P"
      }
    },
    {
      "cell_type": "markdown",
      "source": [
        "Like decimal numbers binary numbers follow the same arithmetic, meaning they can be added and multipied"
      ],
      "metadata": {
        "id": "WqL5etZC23wj"
      }
    },
    {
      "cell_type": "code",
      "source": [
        "#Addition of Binary Numbers\n",
        "# From previous explanations we can state that 12 and 15 can be represented as 1100 and 1111 in binary respectively\n",
        "# 12 + 15 = 27\n",
        "# Under binary addition we expect 1100 + 1111 = 11011\n",
        "# And we can confirm this in python:\n",
        "bin(27)"
      ],
      "metadata": {
        "colab": {
          "base_uri": "https://localhost:8080/",
          "height": 35
        },
        "id": "VTspKREz3W3b",
        "outputId": "11053ac9-0efd-48f6-8107-4862b220fbb3"
      },
      "execution_count": 10,
      "outputs": [
        {
          "output_type": "execute_result",
          "data": {
            "text/plain": [
              "'0b11011'"
            ],
            "application/vnd.google.colaboratory.intrinsic+json": {
              "type": "string"
            }
          },
          "metadata": {},
          "execution_count": 10
        }
      ]
    },
    {
      "cell_type": "code",
      "source": [
        "#Expansion\n",
        "0b11011 == 1*(2**4) + 1*(2**3) + 0*(2**2) + 1*(2**1) + 1*(2**0)"
      ],
      "metadata": {
        "colab": {
          "base_uri": "https://localhost:8080/"
        },
        "id": "FY341w176Eo6",
        "outputId": "f9ba3054-7e7d-48ad-e0ab-3ecf11ce765d"
      },
      "execution_count": 14,
      "outputs": [
        {
          "output_type": "execute_result",
          "data": {
            "text/plain": [
              "True"
            ]
          },
          "metadata": {},
          "execution_count": 14
        }
      ]
    },
    {
      "cell_type": "code",
      "source": [
        "#Mutiplication of Binary Numbers\n",
        "# 12 * 15 = 180\n",
        "# Under binary addition we expect 1100 * 1111 = 11011\n",
        "# Confirm in python:\n",
        "bin(180)"
      ],
      "metadata": {
        "colab": {
          "base_uri": "https://localhost:8080/",
          "height": 35
        },
        "id": "dUVDqvtJ5J9J",
        "outputId": "4e3f60d0-3933-4fb1-9ab4-a9f6bc2175c6"
      },
      "execution_count": 13,
      "outputs": [
        {
          "output_type": "execute_result",
          "data": {
            "text/plain": [
              "'0b10110100'"
            ],
            "application/vnd.google.colaboratory.intrinsic+json": {
              "type": "string"
            }
          },
          "metadata": {},
          "execution_count": 13
        }
      ]
    },
    {
      "cell_type": "code",
      "source": [
        "#Expansion\n",
        "0b10110100 == 1*(2**7) + 0*(2**6) + 1*(2**5) + 1*(2**4) + 0*(2**3) + 1*(2**2) + 0*(2**1) + 0*(2**0)"
      ],
      "metadata": {
        "colab": {
          "base_uri": "https://localhost:8080/"
        },
        "id": "6F3nOv0N5jns",
        "outputId": "74a06ec0-b7f3-498b-ba89-c16c8e31a841"
      },
      "execution_count": 15,
      "outputs": [
        {
          "output_type": "execute_result",
          "data": {
            "text/plain": [
              "True"
            ]
          },
          "metadata": {},
          "execution_count": 15
        }
      ]
    },
    {
      "cell_type": "code",
      "source": [
        "# We can also revert our binary numbers back to decimals\n",
        "binary = \"10110100\"\n",
        "decimal = int(binary, 2)\n",
        "print(decimal)"
      ],
      "metadata": {
        "colab": {
          "base_uri": "https://localhost:8080/"
        },
        "id": "xsH4T351APZF",
        "outputId": "159e144a-c343-499d-ff23-d424dba6e4de"
      },
      "execution_count": 19,
      "outputs": [
        {
          "output_type": "stream",
          "name": "stdout",
          "text": [
            "180\n"
          ]
        }
      ]
    },
    {
      "cell_type": "markdown",
      "source": [
        "# **9.2 Floating Point Numbers**\n",
        "Binary provide an insuffiencet range of numbers since most computers are limited to 32 or 64 bit processing. So in order to achieve the range of values need wuth the same number of points we use **Floating Point Numbers**\n",
        "The standard allotment of bits for 64 bit processing under **IEE754** has the following breakdown\n",
        "- 1 bit for the sign indicator (where 0 means a positive number and 1 a negative) (s)\n",
        "- 11 bits for the exponent (e)\n",
        "- 52 bits for the fraction (f)\n",
        "- A float can be represented by the equation: n = ((-1)^s)(2^(e-1023))(1+f)"
      ],
      "metadata": {
        "id": "OHWnyXOi7EoG"
      }
    },
    {
      "cell_type": "code",
      "source": [
        "#So for example if we wanted to know what 13 was in IEEE754 the breakdown would go as follows\n",
        "# The number is positive thus s=0.\n",
        "# The largest power of two that is smaller than 13.0 is 8, therefor the exponent is 3, thus 3+1023=1026 = 10000000010\n",
        "# The fraction is 13/8−1 = 0.625 = 1(1/2^1) + 1(1/2^3) = 1010000000000000000000000000000000000000000000000000\n",
        "# So putting all the components together we get that the IEEE754 value for 13.0 = 0 10000000010 1010000000000000000000000000000000000000000000000000\n",
        "\n",
        "13 == (-1)**0 * (2**((1*2**10 + 1*2**1) - 1023)) * (1 + (1*2**-1 + 1*2**-3))\n"
      ],
      "metadata": {
        "colab": {
          "base_uri": "https://localhost:8080/"
        },
        "id": "qzvqazIH_sBk",
        "outputId": "d6b986ac-7a28-4c5e-ae01-7b74526cebbb"
      },
      "execution_count": 26,
      "outputs": [
        {
          "output_type": "execute_result",
          "data": {
            "text/plain": [
              "True"
            ]
          },
          "metadata": {},
          "execution_count": 26
        }
      ]
    },
    {
      "cell_type": "code",
      "source": [
        "#Confirming through python\n",
        "import struct\n",
        "number = 13.0\n",
        "binary = struct.unpack('!Q', struct.pack('!d', number))[0]\n",
        "\n",
        "binary754 = format(binary, '064b')\n",
        "print(binary754)"
      ],
      "metadata": {
        "colab": {
          "base_uri": "https://localhost:8080/"
        },
        "id": "gxhke3TKSYex",
        "outputId": "b9cdb8a8-7912-48d5-c679-b1b6eaa1fb11"
      },
      "execution_count": 25,
      "outputs": [
        {
          "output_type": "stream",
          "name": "stdout",
          "text": [
            "0100000000101010000000000000000000000000000000000000000000000000\n"
          ]
        }
      ]
    },
    {
      "cell_type": "markdown",
      "source": [
        "In regards to maximum and minimum values through the float equation, information can be gathered using the following sys package,"
      ],
      "metadata": {
        "id": "7PnJ56B0X4fG"
      }
    },
    {
      "cell_type": "code",
      "source": [
        "import sys\n",
        "sys.float_info"
      ],
      "metadata": {
        "colab": {
          "base_uri": "https://localhost:8080/"
        },
        "id": "ZZFo2-zRYEWs",
        "outputId": "80ab47bb-6f46-47ec-a61d-709a86908679"
      },
      "execution_count": 27,
      "outputs": [
        {
          "output_type": "execute_result",
          "data": {
            "text/plain": [
              "sys.float_info(max=1.7976931348623157e+308, max_exp=1024, max_10_exp=308, min=2.2250738585072014e-308, min_exp=-1021, min_10_exp=-307, dig=15, mant_dig=53, epsilon=2.220446049250313e-16, radix=2, rounds=1)"
            ]
          },
          "metadata": {},
          "execution_count": 27
        }
      ]
    },
    {
      "cell_type": "markdown",
      "source": [
        "It is important to realize that although the value of 13.0 can be expressed as 0 10000000010 1010000000000000000000000000000000000000000000000000 this value not only represents the number 13.0 but all real numbers surrounding it, i.e. the numbers inbwteen the next smallest and next largest value.\n",
        "\n",
        "The space between the next smallest and next largest value is referred to as the gap, this gap grows as the number grows.\n",
        "\n",
        "It can be computed using the following function: import numpy as np"
      ],
      "metadata": {
        "id": "uroPZVP4YPCu"
      }
    },
    {
      "cell_type": "code",
      "source": [
        "# Spacing function used to determine that gap at 1e(8)\n",
        "import numpy as np\n",
        "np.spacing(1e8)"
      ],
      "metadata": {
        "colab": {
          "base_uri": "https://localhost:8080/"
        },
        "id": "1DnQKkYVZ6Mz",
        "outputId": "4dade125-f5cc-40a1-ffed-199ee90736b6"
      },
      "execution_count": 36,
      "outputs": [
        {
          "output_type": "execute_result",
          "data": {
            "text/plain": [
              "1.4901161193847656e-08"
            ]
          },
          "metadata": {},
          "execution_count": 36
        }
      ]
    },
    {
      "cell_type": "code",
      "source": [
        "#Verification of gap\n",
        "1e8 == (1e8 + np.spacing(1e8)/5)"
      ],
      "metadata": {
        "colab": {
          "base_uri": "https://localhost:8080/"
        },
        "id": "M8PxQZ3adZy5",
        "outputId": "a011b665-db88-400f-f8b5-2f32bfc6e4b1"
      },
      "execution_count": 38,
      "outputs": [
        {
          "output_type": "execute_result",
          "data": {
            "text/plain": [
              "True"
            ]
          },
          "metadata": {},
          "execution_count": 38
        }
      ]
    },
    {
      "cell_type": "markdown",
      "source": [
        "The reason the above code returns true is that addding a number to a value that is less then half the gap at said value results in the same number."
      ],
      "metadata": {
        "id": "LimYMisqdnlC"
      }
    },
    {
      "cell_type": "code",
      "source": [
        "#Computing the base10 vale for the smallest defined number for 64 bits\n",
        "largest = (2**(2046-1023))*((1 + sum(0.5**np.arange(1, 53))))\n",
        "print(largest)\n",
        "#Confirming Value\n",
        "print(sys.float_info.max)"
      ],
      "metadata": {
        "colab": {
          "base_uri": "https://localhost:8080/"
        },
        "id": "Xg8Whhxdfr-C",
        "outputId": "0f63d927-3d87-48d6-ce20-e3c20100c51d"
      },
      "execution_count": 41,
      "outputs": [
        {
          "output_type": "stream",
          "name": "stdout",
          "text": [
            "1.7976931348623157e+308\n",
            "1.7976931348623157e+308\n"
          ]
        }
      ]
    },
    {
      "cell_type": "code",
      "source": [
        "#Computing the base10 vale for the smallest defined number for 64 bits\n",
        "smallest = (2**(1-1023))*(1+0)\n",
        "print(smallest)\n",
        "#Confirming Value\n",
        "print(sys.float_info.min)"
      ],
      "metadata": {
        "colab": {
          "base_uri": "https://localhost:8080/"
        },
        "id": "qzxDvmT1gM6Q",
        "outputId": "c0319775-7ebb-4b0b-f6d2-91251a408bbd"
      },
      "execution_count": 43,
      "outputs": [
        {
          "output_type": "stream",
          "name": "stdout",
          "text": [
            "2.2250738585072014e-308\n",
            "2.2250738585072014e-308\n"
          ]
        }
      ]
    },
    {
      "cell_type": "markdown",
      "source": [
        "It is important to note there are exceptions and for the valuye of a floating point number when e = 0 or e = 2047. It results in what is known as a **Subnormal number**. Often they produce reults \"Not a Number\" or +- infinity.\n",
        "\n",
        "Numbers that are larger than the largest representable floating point number result in **overflow**\n",
        "\n",
        "Numbers that are smaller than the smallest subnormal number result in **underflow**"
      ],
      "metadata": {
        "id": "lLd-7fjvgdAi"
      }
    },
    {
      "cell_type": "code",
      "source": [
        "# This will result in overflow since we are adding he maximum 64 bits float number with itself, in cases of overflow python will return inf\n",
        "sys.float_info.max + sys.float_info.max"
      ],
      "metadata": {
        "colab": {
          "base_uri": "https://localhost:8080/"
        },
        "id": "Xytuo-W0iCzW",
        "outputId": "8c650658-4ef1-4f91-f6a6-1add873ccbf3"
      },
      "execution_count": 46,
      "outputs": [
        {
          "output_type": "execute_result",
          "data": {
            "text/plain": [
              "inf"
            ]
          },
          "metadata": {},
          "execution_count": 46
        }
      ]
    },
    {
      "cell_type": "code",
      "source": [
        "# Numbers that are smaller than the smallest subnormal number return zero\n",
        "num1 = 2**(-1075)\n",
        "#But a number larger will not\n",
        "num2 = 2**(-1070)\n",
        "\n",
        "print(num1)\n",
        "print(num2)"
      ],
      "metadata": {
        "colab": {
          "base_uri": "https://localhost:8080/"
        },
        "id": "QZIg3ef8izpS",
        "outputId": "fbc8a7ac-2d5d-4e43-cc17-74ee1d9a616a"
      },
      "execution_count": 50,
      "outputs": [
        {
          "output_type": "stream",
          "name": "stdout",
          "text": [
            "0.0\n",
            "8e-323\n"
          ]
        }
      ]
    },
    {
      "cell_type": "markdown",
      "source": [
        "# **9.3 Round-Off Errors**\n",
        "A fault of using floating point numbers is that since they are represented as base 2 fractions they can not be stored with perfect precision. Thus, there is a difference between the approximation of a number and its coirrect (true) value, this difference is called a **Round-Off Error**"
      ],
      "metadata": {
        "id": "pOp9NIZJjbsX"
      }
    },
    {
      "cell_type": "code",
      "source": [
        "#Error by floating point arithmetic\n",
        "value_approx = 5.7 - 5.687\n",
        "\n",
        "if (5.7 - 5.687 == 0.013):\n",
        "    print(\"true\")\n",
        "else:\n",
        "    print(value_approx)\n",
        "\n",
        "# True was not outputted because floating point numbers can not be represneted by their exact number so it leads to small error when used in arithemetic\n",
        "# We can see that our output produces a value of 0.0129999999999999 instead of 0.013 as we might expect"
      ],
      "metadata": {
        "colab": {
          "base_uri": "https://localhost:8080/"
        },
        "id": "3LN2TpbRsDXl",
        "outputId": "100af3f7-cf1c-4772-ec99-34f11bc0278f"
      },
      "execution_count": 59,
      "outputs": [
        {
          "output_type": "stream",
          "name": "stdout",
          "text": [
            "0.0129999999999999\n"
          ]
        }
      ]
    },
    {
      "cell_type": "code",
      "source": [
        "# Oftentimes we can fix these errors using the round() function in python\n",
        "# Rounding to 3 digits\n",
        "0.013 == round(5.7 - 5.687,3)"
      ],
      "metadata": {
        "colab": {
          "base_uri": "https://localhost:8080/"
        },
        "id": "zKdSiQDTy-GA",
        "outputId": "2e016030-16b7-4843-da39-fcc3521f373a"
      },
      "execution_count": 63,
      "outputs": [
        {
          "output_type": "execute_result",
          "data": {
            "text/plain": [
              "True"
            ]
          },
          "metadata": {},
          "execution_count": 63
        }
      ]
    },
    {
      "cell_type": "markdown",
      "source": [
        "Another note of round-off error is that when performing a sequence of calculations erros can be accumulated and thus leading to a larger overall round-off error"
      ],
      "metadata": {
        "id": "jbHW3H06z6Ok"
      }
    },
    {
      "cell_type": "code",
      "source": [
        "def add_and_subtract(iterations):\n",
        "    result = 5\n",
        "\n",
        "    for i in range(iterations):\n",
        "        result += 6/7\n",
        "\n",
        "    for i in range(iterations):\n",
        "        result -= 6/7\n",
        "    return result"
      ],
      "metadata": {
        "id": "vlZVWLcH0Rux"
      },
      "execution_count": 106,
      "outputs": []
    },
    {
      "cell_type": "code",
      "source": [
        "add_and_subtract(10)"
      ],
      "metadata": {
        "colab": {
          "base_uri": "https://localhost:8080/"
        },
        "id": "ljMgcXbb1Uu1",
        "outputId": "eafd5db5-6543-4f84-82a2-bebd7ce09876"
      },
      "execution_count": 107,
      "outputs": [
        {
          "output_type": "execute_result",
          "data": {
            "text/plain": [
              "5.0"
            ]
          },
          "metadata": {},
          "execution_count": 107
        }
      ]
    },
    {
      "cell_type": "code",
      "source": [
        "add_and_subtract(100)"
      ],
      "metadata": {
        "colab": {
          "base_uri": "https://localhost:8080/"
        },
        "id": "j7NUeiOP1KT-",
        "outputId": "a557383e-1629-4d75-d058-ae9b080c0a6f"
      },
      "execution_count": 108,
      "outputs": [
        {
          "output_type": "execute_result",
          "data": {
            "text/plain": [
              "4.9999999999999964"
            ]
          },
          "metadata": {},
          "execution_count": 108
        }
      ]
    },
    {
      "cell_type": "code",
      "source": [
        "add_and_subtract(1000)"
      ],
      "metadata": {
        "colab": {
          "base_uri": "https://localhost:8080/"
        },
        "id": "2Cd0-Cr10fQ0",
        "outputId": "bd7d6ebf-ee59-4e5b-f378-1d22e845ae39"
      },
      "execution_count": 109,
      "outputs": [
        {
          "output_type": "execute_result",
          "data": {
            "text/plain": [
              "5.000000000000011"
            ]
          },
          "metadata": {},
          "execution_count": 109
        }
      ]
    },
    {
      "cell_type": "code",
      "source": [
        "add_and_subtract(10000)"
      ],
      "metadata": {
        "colab": {
          "base_uri": "https://localhost:8080/"
        },
        "id": "pS8sXtoV0ofU",
        "outputId": "707c1322-6758-4b74-eae9-b131aea8c008"
      },
      "execution_count": 110,
      "outputs": [
        {
          "output_type": "execute_result",
          "data": {
            "text/plain": [
              "4.999999999998874"
            ]
          },
          "metadata": {},
          "execution_count": 110
        }
      ]
    },
    {
      "cell_type": "markdown",
      "source": [
        "The basis for the above problem is that we are adding 6/7 to 5 then subtracking 6/7, which should result in the same number 5 no matter how many attemps. However, as previously shown that is not the case if the operation is performed numerous times, thus showing how the accumulation of round-off error can occur."
      ],
      "metadata": {
        "id": "l4QkGzzC1ieg"
      }
    }
  ]
}