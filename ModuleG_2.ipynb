{
  "nbformat": 4,
  "nbformat_minor": 0,
  "metadata": {
    "colab": {
      "provenance": [],
      "authorship_tag": "ABX9TyPg1flg9ikqe3X7NP1NZ6sK",
      "include_colab_link": true
    },
    "kernelspec": {
      "name": "python3",
      "display_name": "Python 3"
    },
    "language_info": {
      "name": "python"
    }
  },
  "cells": [
    {
      "cell_type": "markdown",
      "metadata": {
        "id": "view-in-github",
        "colab_type": "text"
      },
      "source": [
        "<a href=\"https://colab.research.google.com/github/Devscoding/MAT421/blob/main/ModuleG_2.ipynb\" target=\"_parent\"><img src=\"https://colab.research.google.com/assets/colab-badge.svg\" alt=\"Open In Colab\"/></a>"
      ]
    },
    {
      "cell_type": "markdown",
      "source": [
        "# **21.4 Simpson's Rule**\n",
        "When considering two consective subintervals $[x_{i-1},x_i]$ and $[x_i,x_{i+1}]$ under **Simpson's Rule** we approximate the area under the curve of function, over our two subintervals. This is done by fitting a quadratic polynomial through the points $(x_{i-1},f(x_{i-1})), (x_i, f(x_i)),$ and $(x_{i+1},f(x_{i+1}))$ then integrating said polynomial exactly.\n",
        "\n",
        "In terms of contructing our polynomial it is quite common to perform this step with the use of the Lagrange polynomial formula, it is also important to note that Simpson's Rule requires an even number of intervals to perform."
      ],
      "metadata": {
        "id": "M5HMCkzN1Gmh"
      }
    },
    {
      "cell_type": "markdown",
      "source": [
        "# **21.5 Computing Integrals in Python**\n",
        "Like most mathematical operations integrals can be performed in python. The *scipy.integrate* package has useful functions that are helpful in the integration solving process, such as the *trapezoid* function that allows us to perform the Trapezoidal Rule.\n",
        "\n",
        "These packages also help us demonstrate more difficult concepts easier such as the previously mentioned, Simpson's Rule\n",
        "\n",
        "Below is an example in python of integral approximation of $f(x) = sin(x)$ through Simpson's Rule, Trapezoidal Rule, and the exact integration for comparison"
      ],
      "metadata": {
        "id": "oDRohb_X3hKP"
      }
    },
    {
      "cell_type": "code",
      "source": [
        "import numpy as np\n",
        "from scipy.integrate import simpson,trapezoid\n",
        "\n",
        "# Function f(x) = sin(x)\n",
        "def f(x):\n",
        "    return np.sin(x)\n",
        "\n",
        "# The interval [a, b] and subintervals\n",
        "a = 0\n",
        "b = np.pi\n",
        "n = 100\n",
        "x = np.linspace(a, b, n + 1)\n",
        "y = f(x)\n",
        "\n",
        "# Simpson's Rule\n",
        "simpson_integral = simpson(y, x=x)\n",
        "\n",
        "# Trapezoidal Rule\n",
        "trapezoidal_integral = trapezoid(y, x)\n",
        "\n",
        "# Exact integral\n",
        "exact_integral = -np.cos(b) + np.cos(a)\n",
        "\n",
        "print(f\"Simpson's Rule: {simpson_integral}\")\n",
        "print(f\"Trapezoidal Rule: {trapezoidal_integral}\")\n",
        "print(f\"Exact Integral: {exact_integral}\")"
      ],
      "metadata": {
        "colab": {
          "base_uri": "https://localhost:8080/"
        },
        "id": "lVfVmqCC9FmC",
        "outputId": "8039787f-5313-46a4-d4bf-ae554f9b63df"
      },
      "execution_count": 15,
      "outputs": [
        {
          "output_type": "stream",
          "name": "stdout",
          "text": [
            "Simpson's Rule: 2.0000000108245044\n",
            "Trapezoidal Rule: 1.9998355038874434\n",
            "Exact Integral: 2.0\n"
          ]
        }
      ]
    }
  ]
}