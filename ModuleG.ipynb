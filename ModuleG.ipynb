{
  "nbformat": 4,
  "nbformat_minor": 0,
  "metadata": {
    "colab": {
      "provenance": [],
      "authorship_tag": "ABX9TyMdPGViNCNm5C0QPoWQHnul",
      "include_colab_link": true
    },
    "kernelspec": {
      "name": "python3",
      "display_name": "Python 3"
    },
    "language_info": {
      "name": "python"
    }
  },
  "cells": [
    {
      "cell_type": "markdown",
      "metadata": {
        "id": "view-in-github",
        "colab_type": "text"
      },
      "source": [
        "<a href=\"https://colab.research.google.com/github/Devscoding/MAT421/blob/main/ModuleG.ipynb\" target=\"_parent\"><img src=\"https://colab.research.google.com/assets/colab-badge.svg\" alt=\"Open In Colab\"/></a>"
      ]
    },
    {
      "cell_type": "markdown",
      "source": [
        "# **21.1 Numerical Integration Problem Statement**\n",
        "Given the function $f(x)$ over the interval $[a, b]$ we can define the integral $\\int_{a}^{b} f(x)dx$ as the area under the curve of the function from $a$ to $b$\n",
        "\n",
        "In terms of approximations we assume the interval $[a,b]$ has been discretized into a numeral grid, $x$, and is divided into $n$ **subintervals** if equal spacing of $h = \\frac{b-a}{n}$.The grid points are denoted $x_0, x_1, x_2,...,x_n$ where there are $n+1$ total grid points and each subinterval is defined as $[x_i,x_{i+1}]$\n",
        "\n",
        "During integral approximatation the sum of each of subinterval is calculated, and there are mutliple ways to perform these approximations some of which will be discussed later on.  \n"
      ],
      "metadata": {
        "id": "Q-qrM41C-XFl"
      }
    },
    {
      "cell_type": "markdown",
      "source": [
        "# **21.2 Riemanns Integral**\n",
        "One of the more simple ways of approximating integrals is known as Riemanns integral which involves summing the area of rectangles that are generated for each of their respective subintervals. Where the width of the rectangle is defined by $x_{i+1} - x_i=h$ and the height defined by the value of $f(x)$ for some $x$ in the subinterval.\n",
        "\n",
        "The formal expression for **Riemann Integral** is as follows:\n",
        "\n",
        "$\\int_{a}^{b}f(x)dx \\approx \\sum_{i=0}^{n-1}hf(x_i)$ or\n",
        "\n",
        "$\\int_{a}^{b}f(x)dx \\approx \\sum_{i=0}^{n}hf(x_i)$\n",
        "\n",
        "depending on whether a left or right endpoint is chosen."
      ],
      "metadata": {
        "id": "eypoenN0im5X"
      }
    },
    {
      "cell_type": "markdown",
      "source": [
        "# **21.3 Trapezoid Rule**\n",
        "Unlike Reimanns Integral the **Trapezoid Rule** fits a trapezoid into each subinterval annd takes the total sum of the areas of the trapezoid to calculate the integral.\n",
        "\n",
        "The area od the trapezoids have corners at $(x_i,0), (x_{i+1}, 0), (x_i, f(x_i))$, and $(x_{i+1}, f(x_{i+1}))$ and  the approximation of the integralhe integral is calculated by the following expression:\n",
        "\n",
        "$\\int_{a}^{b}f(x)dx \\approx \\sum_{i=0}^{n-1}h\\frac{f(x_i)+f(x_{i+1})}{2}$\n",
        "\n",
        "Below are examples in python of Riemmanns Integral and the Trapezoid Rule approximation along with the actual integral value for comparison."
      ],
      "metadata": {
        "id": "7zbV8aBfdBQQ"
      }
    },
    {
      "cell_type": "code",
      "source": [
        "import numpy as np\n",
        "\n",
        "# The function f(x) = x^2\n",
        "def f(x):\n",
        "    return x**2\n",
        "\n",
        "a = 0\n",
        "b = 1\n",
        "n = 100\n",
        "h = (b - a) / n\n",
        "\n",
        "# Grid points\n",
        "x = np.linspace(a, b, n + 1)\n",
        "\n",
        "# Left Riemann Sum\n",
        "left_riemann_sum = h * np.sum(f(x[:-1]))\n",
        "\n",
        "# Midpoint Riemann Sum\n",
        "midpoints = (x[:-1] + x[1:]) / 2\n",
        "midpoint_riemann_sum = h * np.sum(f(midpoints))\n",
        "\n",
        "# Trapezoidal Rule\n",
        "trapezoidal_sum = (h / 2) * (f(x[0]) + 2 * np.sum(f(x[1:-1])) + f(x[-1]))\n",
        "\n",
        "# Exact integral (for comparison)\n",
        "exact_integral = (b**3 / 3) - (a**3 / 3)\n",
        "\n",
        "print(f\"Left Riemann Sum: {left_riemann_sum}\")\n",
        "print(f\"Midpoint Riemann Sum: {midpoint_riemann_sum}\")\n",
        "print(f\"Trapezoidal Rule: {trapezoidal_sum}\")\n",
        "print(f\"Exact Integral: {exact_integral}\")"
      ],
      "metadata": {
        "colab": {
          "base_uri": "https://localhost:8080/"
        },
        "id": "5jP-6wxBjgNy",
        "outputId": "fd7fac76-e75b-45cf-f5fd-9ccd2c6a5540"
      },
      "execution_count": null,
      "outputs": [
        {
          "output_type": "stream",
          "name": "stdout",
          "text": [
            "Left Riemann Sum: 0.32835000000000003\n",
            "Midpoint Riemann Sum: 0.33332500000000004\n",
            "Trapezoidal Rule: 0.33335000000000004\n",
            "Exact Integral: 0.3333333333333333\n"
          ]
        }
      ]
    }
  ]
}