{
  "nbformat": 4,
  "nbformat_minor": 0,
  "metadata": {
    "colab": {
      "provenance": [],
      "authorship_tag": "ABX9TyMmDTUTN8Mg2aOQnRSMCOLH",
      "include_colab_link": true
    },
    "kernelspec": {
      "name": "python3",
      "display_name": "Python 3"
    },
    "language_info": {
      "name": "python"
    }
  },
  "cells": [
    {
      "cell_type": "markdown",
      "metadata": {
        "id": "view-in-github",
        "colab_type": "text"
      },
      "source": [
        "<a href=\"https://colab.research.google.com/github/Devscoding/MAT421/blob/main/ModuleD.ipynb\" target=\"_parent\"><img src=\"https://colab.research.google.com/assets/colab-badge.svg\" alt=\"Open In Colab\"/></a>"
      ]
    },
    {
      "cell_type": "markdown",
      "source": [
        "# **1.1 Introduction to Linear Algebra**\n",
        "Linear Algebra is one of the main fundamental fields of mathematics that's application is crucial in areas such as data science and machine learning.\n",
        "\n",
        "In the next sections we will introduce many other topics that further expand upon our knowledge in said previously mentioned areas"
      ],
      "metadata": {
        "id": "24_gKnBc21gT"
      }
    },
    {
      "cell_type": "markdown",
      "source": [
        "# **1.2 Linear Spaces**\n",
        "We define a **Linear Combination** as vector contructed from a subset by mutiplying each vector by some constant and then adding all of the results, we further define a **linear subspace** as a result of said linear combination\n",
        "\n",
        "The **Span** of a set of vectors can be viewed as the set of all possible linear combinations. It also a linear subspace in particular the subspace of a vector space that those linear combinations can generate\n",
        "\n",
        "If the matrix A exist the the **Column Space** of matrix A is referred to as the span of the columns of A\n",
        "\n",
        "A set of vectors can achieve what is known as **Linear Independence** if no vector in the set can be expressed as a linear combination of the other vectors in the set, i.e. $c_1v_1 + c_2v_2 + c_3v3 + ..... + c_nv_n = 0$ when all $c_n$'s are $0$."
      ],
      "metadata": {
        "id": "Io3Ud9Be7Xpk"
      }
    },
    {
      "cell_type": "code",
      "source": [
        "import numpy as np\n",
        "\n",
        "# Defining our vectors\n",
        "v1 = np.array([1, 0])\n",
        "v2 = np.array([0, 1])\n",
        "v3 = np.array([1, 1])\n",
        "\n",
        "# Linear Combination\n",
        "c1, c2, c3 = 3, 5, 2\n",
        "linear_combination = c1 * v1 + c2 * v2 + c3 * v3\n",
        "print(\"Linear Combination:\", linear_combination)\n",
        "\n",
        "# Span\n",
        "matrix = np.array([v1, v2, v3]).T\n",
        "span = np.linalg.matrix_rank(matrix)\n",
        "print(\"Dimension of the span of vectors:\", span)\n",
        "\n",
        "# Column Space\n",
        "A = np.array([[1, 2], [3, 4]])\n",
        "column_space = np.linalg.matrix_rank(A)\n",
        "print(\"Dimension of column space of A:\", column_space)\n",
        "\n",
        "# Linear Independence\n",
        "rank = np.linalg.matrix_rank(matrix)\n",
        "if rank == len(matrix[0]):\n",
        "    print(\"Vectors are linearly independent\")\n",
        "else:\n",
        "    print(\"Vectors are linearly dependent\")"
      ],
      "metadata": {
        "colab": {
          "base_uri": "https://localhost:8080/"
        },
        "id": "mMN58FfO_NTr",
        "outputId": "407300a3-0302-4770-e05d-35b3fbd4c38e"
      },
      "execution_count": 10,
      "outputs": [
        {
          "output_type": "stream",
          "name": "stdout",
          "text": [
            "Linear Combination: [5 7]\n",
            "Dimension of the span of vectors: 2\n",
            "Dimension of column space of A: 2\n",
            "Vectors are linearly dependent\n"
          ]
        }
      ]
    },
    {
      "cell_type": "markdown",
      "source": [
        "We can define that two vectors are said to be **Orthogonal** if the result of their dot product is $0$, or in other words the two vectors are perpendicular to one another.\n",
        "\n",
        "A set of vetors is known as **Orthonormal** if each each vector in the set of vectors is orthogonal to the rest and that each has length that is the unit length (norm of 1)"
      ],
      "metadata": {
        "id": "HIGeAS5rDqzS"
      }
    },
    {
      "cell_type": "code",
      "source": [
        "# Checking if vectors are orthogonal\n",
        "\n",
        "# Defining two vectors\n",
        "v1 = np.array([2, 4])\n",
        "v2 = np.array([3, 5])\n",
        "\n",
        "# Dot product to heck orthogonality\n",
        "dot_product = np.dot(v1, v2)\n",
        "if dot_product == 0:\n",
        "    print(\"v1 and v2 are orthogonal\")\n",
        "else:\n",
        "    print(\"v1 and v2 are not orthogonal\")\n"
      ],
      "metadata": {
        "colab": {
          "base_uri": "https://localhost:8080/"
        },
        "id": "PwopkiGUEeLF",
        "outputId": "8cfc35a4-f8c2-4058-a63b-e33f5ff63841"
      },
      "execution_count": 13,
      "outputs": [
        {
          "output_type": "stream",
          "name": "stdout",
          "text": [
            "v1 and v2 are not orthogonal\n"
          ]
        }
      ]
    },
    {
      "cell_type": "markdown",
      "source": [
        "When working with transformations or data science in general eigenvalues can be very useful in their applications\n",
        "\n",
        "An **Eigenvector** is a non-zero vector($x$) that when mutiplied by a square matrix($A$) results in a scalar multiple of itself: $Ax = λx$ where here $x$ is our eigen vector.\n",
        "\n",
        "The scalar $λ$ in our expression is known as the **Eigenvalue** that is associated with our eigenvector $x$.\n",
        "\n",
        "In practical application, we say that eigenvalues are the directions in which a linear transformation (in this case defined by a matrix $A$) expands or compresses. Whereas the eigenvalue of $λ$ refers to the factor of said expansion or compression."
      ],
      "metadata": {
        "id": "odBTww9HH7mR"
      }
    },
    {
      "cell_type": "code",
      "source": [
        "# Square matrix A\n",
        "A = np.array([[2, 5],\n",
        "              [3, 4]])\n",
        "\n",
        "# Compute eigenvalues and eigenvectors\n",
        "eigenvalues, eigenvectors = np.linalg.eig(A)\n",
        "\n",
        "print(\"Eigenvalues:\")\n",
        "print(eigenvalues)\n",
        "\n",
        "print(\"\\nEigenvectors:\")\n",
        "print(eigenvectors)"
      ],
      "metadata": {
        "colab": {
          "base_uri": "https://localhost:8080/"
        },
        "id": "MV6ryxVEP8Wy",
        "outputId": "148420fc-22ce-4e1a-aff5-1321827bd669"
      },
      "execution_count": 14,
      "outputs": [
        {
          "output_type": "stream",
          "name": "stdout",
          "text": [
            "Eigenvalues:\n",
            "[-1.  7.]\n",
            "\n",
            "Eigenvectors:\n",
            "[[-0.85749293 -0.70710678]\n",
            " [ 0.51449576 -0.70710678]]\n"
          ]
        }
      ]
    },
    {
      "cell_type": "markdown",
      "source": [
        "# **1.3 Linear Regression**\n",
        "When we are dealing with predictive models, one of the more popular methods involves **Linear Regression** which measures the relationship between the dependent variable and an independent variable (or multiple if performing multi-variable linear regression vs a simple regression). Where the goal is to find the best fitting straight line model that best predicts the dependent variable.\n",
        "\n",
        "Simple regression formula: $y = mx + b$\n",
        "\n",
        "Multiple variable regression formula: $y = b + c_1x_1 + c_2x_2 + c_3x_3 + ... + c_nx_n$\n",
        "\n",
        "Linear regression focuses on minimizing the mean squared error (MSE) between the predicted values from our straight line model and the actual values."
      ],
      "metadata": {
        "id": "qrYL-iliQXlB"
      }
    },
    {
      "cell_type": "code",
      "source": [
        "import matplotlib.pyplot as plt\n",
        "from sklearn.linear_model import LinearRegression\n",
        "from sklearn.metrics import mean_squared_error, r2_score\n",
        "\n",
        "# Creating random data to preform our regression on\n",
        "np.random.seed(22)\n",
        "# 100 random points between 0 and 1\n",
        "X = 1 * np.random.rand(100, 1)\n",
        "# y = 1 + 4x + noise\n",
        "Y = 1 + 4 * X + np.random.randn(100, 1)\n",
        "\n",
        "model = LinearRegression()\n",
        "model.fit(X, Y)\n",
        "\n",
        "# Finding the slope and intercept\n",
        "slope = model.coef_[0][0]\n",
        "intercept = model.intercept_[0]\n",
        "print(f\"Slope: {slope}\")\n",
        "print(f\"Intercept: {intercept}\")\n",
        "\n",
        "Y_pred = model.predict(X)\n",
        "\n",
        "# Plotting the regression line\n",
        "plt.scatter(X, Y, color=\"blue\", label=\"Data Points\")\n",
        "plt.plot(X, Y_pred, color=\"red\", label=\"Regression Line\")\n",
        "plt.xlabel(\"X\")\n",
        "plt.ylabel(\"Y\")\n",
        "plt.title(\"Linear Regression Fit\")\n",
        "plt.legend()\n",
        "plt.show()\n",
        "\n",
        "# Calculate MSE and R^2\n",
        "mse = mean_squared_error(Y, Y_pred)\n",
        "r2 = r2_score(Y, Y_pred)\n",
        "\n",
        "print(f\"Mean Squared Error: {mse}\")\n",
        "print(f\"R^2: {r2}\")"
      ],
      "metadata": {
        "colab": {
          "base_uri": "https://localhost:8080/",
          "height": 541
        },
        "id": "FA7sEJyjRpjI",
        "outputId": "784ce296-7c41-4038-b6e4-316f34b48f0a"
      },
      "execution_count": 30,
      "outputs": [
        {
          "output_type": "stream",
          "name": "stdout",
          "text": [
            "Slope: 3.3078277261774525\n",
            "Intercept: 1.5180433646330636\n"
          ]
        },
        {
          "output_type": "display_data",
          "data": {
            "text/plain": [
              "<Figure size 640x480 with 1 Axes>"
            ],
            "image/png": "[encoded data removed]"
          },
          "metadata": {}
        },
        {
          "output_type": "stream",
          "name": "stdout",
          "text": [
            "Mean Squared Error: 0.9688755142396931\n",
            "R^2: 0.49890260764410665\n"
          ]
        }
      ]
    }
  ]
}