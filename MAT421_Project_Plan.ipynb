{
  "nbformat": 4,
  "nbformat_minor": 0,
  "metadata": {
    "colab": {
      "provenance": [],
      "authorship_tag": "ABX9TyM8sp/7+XA6Mq5s7qjhwT5B",
      "include_colab_link": true
    },
    "kernelspec": {
      "name": "python3",
      "display_name": "Python 3"
    },
    "language_info": {
      "name": "python"
    }
  },
  "cells": [
    {
      "cell_type": "markdown",
      "metadata": {
        "id": "view-in-github",
        "colab_type": "text"
      },
      "source": [
        "<a href=\"https://colab.research.google.com/github/Devscoding/MAT421/blob/main/MAT421_Project_Plan.ipynb\" target=\"_parent\"><img src=\"https://colab.research.google.com/assets/colab-badge.svg\" alt=\"Open In Colab\"/></a>"
      ]
    },
    {
      "cell_type": "markdown",
      "source": [
        "# **Predicting Baseball Pitcher ERA Through Multiple Forms of Regression Analysis**\n",
        "\n",
        "\n",
        "---\n",
        "\n"
      ],
      "metadata": {
        "id": "WXO20biflxkm"
      }
    },
    {
      "cell_type": "markdown",
      "source": [
        "# **Research Objective**\n",
        "The main goal of this project is to develop the best pitcher earned run average (ERA) predictive model through various forms of regression analysis, using data from various sources such as Baseball Savant, Baseball Reference, and Fangraphs. Our study will focus on building the best model through the following regression techniques, Multiple Variable Linear Regression, Polynomial Regression, Lagrange Interpolation, and Spline Interpolation. ERA is one of the most fundamental statistical metrics baseball front office scouts and analysts have in evaluating the effectiveness of a pitcher. Thus if a model that aids in its predictability can be constructed, then it could be a useful tool in terms of player development.\n"
      ],
      "metadata": {
        "id": "HjwTvlPfmAfz"
      }
    },
    {
      "cell_type": "markdown",
      "source": [
        "# **Literature Review**\n",
        "Since 2015, baseball data and advanced metrics have become much more prevalent due to the introduction of the Statcast system. Since the introduction of the Statcast system, the amount of data teams have access to has increased steadily over the years along with more innovation being achieved due to said data. Additionally through sites such as Baseball Savant, much of this data is accessible to the public, this has led to various attempts of baseball predictive model building through regression analysis and even some machine learning techniques. When it comes to the pitching aspect of data there tends to be a lot more data available simply due to the nature of the sport as this area of the game has a lot more measure variables. Typically research is done more so on specific movement patterns of specific pitches and trying to build models that help in what is referred to as “pitch development/creation”, and this is done through measuring data on the physical pitch characteristics. Additionally many seek to creat models that improve upon the simple nature of ERA and demonstrate a more accurate form of player performance. However, the effectiveness of certain regression or other estimator models in terms of predicting ERA has not been widely explored. Thus there seems to be a gap in understanding the predictability of ERA that must be explored further.\n"
      ],
      "metadata": {
        "id": "OZQJzYBemPz-"
      }
    },
    {
      "cell_type": "markdown",
      "source": [
        "# **Hypothesis/Research Questions**\n",
        "Our study will be focusing on answering the following research questions:\n",
        "*   Which estimator method yields the best predictive model among; Multiple linear regression, Lagrange interpolation, spline interpolation, or polynomial regression\n",
        "*   What makes each model useful in their own way\n",
        "*   Is it more optimal to construct a model that combines multiple types of estimator methods rather than only using one\n",
        "\n",
        "\n",
        "Our overall hypothesis is that Spline Interpolation and Polynomial regression will yield better results in our analysis due to the fact that these methods are better suited for dealing with nonlinear relationships which are quite common when it comes to pitching data.\n",
        "\n"
      ],
      "metadata": {
        "id": "uX_flaHmmf0I"
      }
    },
    {
      "cell_type": "markdown",
      "source": [
        "# **Methodology**\n",
        "The following methodolgy will be applied to our study:\n",
        "*   Data Collection\n",
        "\n",
        "*   Data Cleaning: Scrapping the data to filter relevant data by identifying key pitching metrics that may influence ERA through a correlation analysis and removing any false values\n",
        "\n",
        "*   Model Implementation:\n",
        "  1.   Linear Regression analysis to establish a baseline\n",
        "  2.   Lagrange Interpolation for point based predictions\n",
        "  3.   Spline Interpolation and Polynomial Regression for analyzing nonlinear trends\n",
        "*   Visualization: Will use matplotlib and seaborn packages in python for plot visuals of our predictors"
      ],
      "metadata": {
        "id": "1wI9MTnsn4EZ"
      }
    },
    {
      "cell_type": "markdown",
      "source": [
        "# **Data Collection**\n",
        "From our data collection we will be extracting data from resources such as Baseball Savant, Baseball Reference, Fangraphs and Python packages such as pybaseball to analyze the following variables:\n",
        "*   Pitch Type\n",
        "* Pitch Velocity\n",
        "* Spin Rate\n",
        "* Walk Rate\n",
        "* Strikeout Rate\n",
        "* Fielding Independent Pitching\n",
        "* Batting Average against\n",
        "* ERA from prior seasons\n",
        "* And more possibly more\n",
        "\n",
        "This data will be collected over multiple seasons past 2015 (Statcast era) to ensure there is a large enough dataset to improve accuracy."
      ],
      "metadata": {
        "id": "h45rsTVLo3QG"
      }
    },
    {
      "source": [
        "# Possible data collection Imports\n",
        "import pandas as pd\n",
        "import numpy as np\n",
        "from pybaseball import statcast_pitcher, pitching_stats, playerid_lookup  # For MLB data collection from Baseball Savant\n",
        "\n",
        "# Data transformation\n",
        "from sklearn.model_selection import train_test_split\n",
        "from sklearn.preprocessing import StandardScaler\n",
        "from sklearn.impute import SimpleImputer\n",
        "\n",
        "# Modeling techniques\n",
        "from sklearn.linear_model import LinearRegression  # For multiple regression\n",
        "from sklearn.preprocessing import PolynomialFeatures  # For polynomial regression\n",
        "\n",
        "# Statistical analysis\n",
        "import statsmodels.api as sm  #\n",
        "from scipy.interpolate import BarycentricInterpolator, CubicSpline  # For Lagrange interpolation and spline interpolation\n",
        "\n",
        "# Model Evaluation\n",
        "from sklearn.metrics import mean_squared_error, r2_score, mean_absolute_error\n",
        "\n",
        "# Visualization\n",
        "import matplotlib.pyplot as plt\n",
        "import seaborn as sns"
      ],
      "cell_type": "code",
      "metadata": {
        "id": "VRpeNU0_rm9A"
      },
      "execution_count": 10,
      "outputs": []
    },
    {
      "cell_type": "markdown",
      "source": [
        "# **Analysis Plan**\n",
        "Data will be analyzed using Python and relevant packages such as Pandas, NumPy, SciPy, and SkLearn. The process of analysis:\n",
        "* Exploratory Data Analysis (EDA)\n",
        "* Variable Selection: through correlation analysis and other statistical tests\n",
        "* Model Training\n",
        "* Model Comparison: assessing predictive usefulness of each regression method using statistical metrics and visual assessments of residual plots\n"
      ],
      "metadata": {
        "id": "38unB5LEpkC7"
      }
    },
    {
      "cell_type": "markdown",
      "source": [
        "# **Team Roles and Responsibilities**\n",
        "This project is being conducted individually. Therefore all aspects of the analysis, including data collection, data filtering/transformation, model implementation, analysis, understanding, and reporting fall on myself."
      ],
      "metadata": {
        "id": "NgNh7_c6qItc"
      }
    }
  ]
}